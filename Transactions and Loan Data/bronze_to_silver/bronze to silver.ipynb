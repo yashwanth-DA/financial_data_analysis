{
 "cells": [
  {
   "cell_type": "code",
   "execution_count": 0,
   "metadata": {
    "application/vnd.databricks.v1+cell": {
     "cellMetadata": {
      "byteLimit": 2048000,
      "rowLimit": 10000
     },
     "inputWidgets": {},
     "nuid": "0ee02664-abcd-475a-ab1b-44cfd72600a1",
     "showTitle": false,
     "tableResultSettingsMap": {},
     "title": ""
    }
   },
   "outputs": [],
   "source": [
    "dbutils.notebook.run(\"mount\", 0)\n",
    "dbutils.notebook.run(\"config\", 0)\n",
    "dbutils.notebook.run(\"transform_accounts\", 0)\n",
    "dbutils.notebook.run(\"transform_customers\", 0)\n",
    "dbutils.notebook.run(\"transform_loan_payments\", 0)\n",
    "dbutils.notebook.run(\"transform_loans\", 0)\n",
    "dbutils.notebook.run(\"transform_transactions\", 0)\n",
    "dbutils.notebook.run(\"join_transformation\", 0)\n",
    "dbutils.notebook.exit(\"success\")\n"
   ]
  }
 ],
 "metadata": {
  "application/vnd.databricks.v1+notebook": {
   "computePreferences": null,
   "dashboards": [],
   "environmentMetadata": {
    "base_environment": "",
    "environment_version": "2"
   },
   "inputWidgetPreferences": null,
   "language": "python",
   "notebookMetadata": {
    "pythonIndentUnit": 4
   },
   "notebookName": "bronze to silver",
   "widgets": {}
  },
  "language_info": {
   "name": "python"
  }
 },
 "nbformat": 4,
 "nbformat_minor": 0
}
