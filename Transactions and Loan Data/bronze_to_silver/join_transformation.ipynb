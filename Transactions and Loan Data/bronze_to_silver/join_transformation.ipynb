{
 "cells": [
  {
   "cell_type": "code",
   "execution_count": 0,
   "metadata": {
    "application/vnd.databricks.v1+cell": {
     "cellMetadata": {
      "byteLimit": 2048000,
      "rowLimit": 10000
     },
     "inputWidgets": {},
     "nuid": "41ae3b1f-8bc3-4689-b364-3679be4577d9",
     "showTitle": false,
     "tableResultSettingsMap": {},
     "title": ""
    }
   },
   "outputs": [],
   "source": [
    "%run \"./config\""
   ]
  },
  {
   "cell_type": "code",
   "execution_count": 0,
   "metadata": {
    "application/vnd.databricks.v1+cell": {
     "cellMetadata": {
      "byteLimit": 2048000,
      "rowLimit": 10000
     },
     "inputWidgets": {},
     "nuid": "b8cebfc6-54a7-4e9f-8d91-e227a4022f0a",
     "showTitle": false,
     "tableResultSettingsMap": {},
     "title": ""
    }
   },
   "outputs": [],
   "source": [
    "df_accounts = spark.read.format(\"parquet\").load(f\"{silver_folder_path}/accounts/*.parquet\")"
   ]
  },
  {
   "cell_type": "code",
   "execution_count": 0,
   "metadata": {
    "application/vnd.databricks.v1+cell": {
     "cellMetadata": {
      "byteLimit": 2048000,
      "rowLimit": 10000
     },
     "inputWidgets": {},
     "nuid": "f8400438-4035-4178-985b-747b9eff5532",
     "showTitle": false,
     "tableResultSettingsMap": {},
     "title": ""
    }
   },
   "outputs": [],
   "source": [
    "df_customers=spark.read.format(\"parquet\").load(f\"{silver_folder_path}/customers/*.parquet\")"
   ]
  },
  {
   "cell_type": "code",
   "execution_count": 0,
   "metadata": {
    "application/vnd.databricks.v1+cell": {
     "cellMetadata": {
      "byteLimit": 2048000,
      "rowLimit": 10000
     },
     "inputWidgets": {},
     "nuid": "8dc1d7d4-3782-4b93-932c-c0e491536929",
     "showTitle": false,
     "tableResultSettingsMap": {},
     "title": ""
    }
   },
   "outputs": [],
   "source": [
    "df_loan_payments=spark.read.format(\"parquet\").load(f\"{silver_folder_path}/loan_payments/*.parquet\")"
   ]
  },
  {
   "cell_type": "code",
   "execution_count": 0,
   "metadata": {
    "application/vnd.databricks.v1+cell": {
     "cellMetadata": {
      "byteLimit": 2048000,
      "rowLimit": 10000
     },
     "inputWidgets": {},
     "nuid": "7a9d3b96-4e1b-4e4c-92a3-e116500fe353",
     "showTitle": false,
     "tableResultSettingsMap": {},
     "title": ""
    }
   },
   "outputs": [],
   "source": [
    "df_loans=spark.read.format(\"parquet\").load(f\"{silver_folder_path}/loans/*.parquet\")"
   ]
  },
  {
   "cell_type": "code",
   "execution_count": 0,
   "metadata": {
    "application/vnd.databricks.v1+cell": {
     "cellMetadata": {
      "byteLimit": 2048000,
      "rowLimit": 10000
     },
     "inputWidgets": {},
     "nuid": "d2bc5871-4ea9-4cf7-948c-c745f49add41",
     "showTitle": false,
     "tableResultSettingsMap": {},
     "title": ""
    }
   },
   "outputs": [],
   "source": [
    "df_transactions=spark.read.format(\"parquet\").load(f\"{silver_folder_path}/transactions/*.parquet\")"
   ]
  },
  {
   "cell_type": "code",
   "execution_count": 0,
   "metadata": {
    "application/vnd.databricks.v1+cell": {
     "cellMetadata": {
      "byteLimit": 2048000,
      "rowLimit": 10000
     },
     "inputWidgets": {},
     "nuid": "f84b5a60-6712-40cf-b1ad-e9e471cb34cf",
     "showTitle": false,
     "tableResultSettingsMap": {},
     "title": ""
    }
   },
   "outputs": [],
   "source": [
    "# join accounts and customers\n",
    "df_accounts_customers = df_accounts.alias(\"a\"). \\\n",
    "    join(df_customers.alias(\"c\"), \"customer_id\"). \\\n",
    "    select(\"a.account_id\", \"a.customer_id\", \"c.first_name\", \"c.last_name\")"
   ]
  },
  {
   "cell_type": "code",
   "execution_count": 0,
   "metadata": {
    "application/vnd.databricks.v1+cell": {
     "cellMetadata": {
      "byteLimit": 2048000,
      "rowLimit": 10000
     },
     "inputWidgets": {},
     "nuid": "d0585a19-f684-4fa8-80bd-4b85528ae8a9",
     "showTitle": false,
     "tableResultSettingsMap": {},
     "title": ""
    }
   },
   "outputs": [],
   "source": [
    "#join loan and loan payments\n",
    "df_loan_loanppayments = df_loan_payments.alias(\"lp\"). \\\n",
    "    join(df_loans.alias(\"l\"), \"loan_id\"). \\\n",
    "        select(\"lp.*\", \"l.customer_id\",\"l.loan_amount\")\n",
    "            "
   ]
  },
  {
   "cell_type": "code",
   "execution_count": 0,
   "metadata": {
    "application/vnd.databricks.v1+cell": {
     "cellMetadata": {
      "byteLimit": 2048000,
      "rowLimit": 10000
     },
     "inputWidgets": {},
     "nuid": "c18de6b3-2b98-4795-89a3-0a62814f96c0",
     "showTitle": false,
     "tableResultSettingsMap": {},
     "title": ""
    }
   },
   "outputs": [],
   "source": [
    "#join df_loan_loanppayments with df_accounts_customers\n",
    "df_llp_ac=df_loan_loanppayments.alias(\"llp\").\\\n",
    "    join(df_accounts_customers.alias(\"ac\"), \"customer_id\").\\\n",
    "        select(\"llp.*\", \"ac.account_id\")"
   ]
  },
  {
   "cell_type": "code",
   "execution_count": 0,
   "metadata": {
    "application/vnd.databricks.v1+cell": {
     "cellMetadata": {
      "byteLimit": 2048000,
      "rowLimit": 10000
     },
     "inputWidgets": {},
     "nuid": "90cfae90-810f-41ce-b799-4efec7a37082",
     "showTitle": false,
     "tableResultSettingsMap": {},
     "title": ""
    }
   },
   "outputs": [],
   "source": [
    "#join transactions with df_llp_ac\n",
    "df_joined=df_transactions.alias(\"t\"). \\\n",
    "    join(df_llp_ac.alias(\"llp\"), \"account_id\"). \\\n",
    "        select(\"t.*\", \"llp.loan_id\", \"llp.payment_id\",\"llp.payment_date\",\"llp.payment_amount\",\"llp.loan_amount\")"
   ]
  },
  {
   "cell_type": "code",
   "execution_count": 0,
   "metadata": {
    "application/vnd.databricks.v1+cell": {
     "cellMetadata": {
      "byteLimit": 2048000,
      "rowLimit": 10000
     },
     "inputWidgets": {},
     "nuid": "38af65af-4c03-4ee0-9f4b-f28adbbc44a4",
     "showTitle": false,
     "tableResultSettingsMap": {},
     "title": ""
    }
   },
   "outputs": [],
   "source": [
    "#write to silver in parquet\n",
    "df_joined.write.mode(\"overwrite\").format(\"parquet\").save(f\"{silver_folder_path}/joined\")"
   ]
  }
 ],
 "metadata": {
  "application/vnd.databricks.v1+notebook": {
   "computePreferences": null,
   "dashboards": [],
   "environmentMetadata": {
    "base_environment": "",
    "environment_version": "2"
   },
   "inputWidgetPreferences": null,
   "language": "python",
   "notebookMetadata": {
    "pythonIndentUnit": 4
   },
   "notebookName": "join_transformation",
   "widgets": {}
  },
  "language_info": {
   "name": "python"
  }
 },
 "nbformat": 4,
 "nbformat_minor": 0
}
