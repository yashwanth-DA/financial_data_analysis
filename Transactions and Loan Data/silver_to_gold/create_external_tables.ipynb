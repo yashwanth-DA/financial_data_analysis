{
 "cells": [
  {
   "cell_type": "code",
   "execution_count": 0,
   "metadata": {
    "application/vnd.databricks.v1+cell": {
     "cellMetadata": {
      "byteLimit": 2048000,
      "rowLimit": 10000
     },
     "inputWidgets": {},
     "nuid": "d1468864-e8d4-4c2d-a950-22d543838d42",
     "showTitle": false,
     "tableResultSettingsMap": {},
     "title": ""
    }
   },
   "outputs": [],
   "source": [
    "CREATE TABLE If NOT EXISTS accounts\n",
    "(\n",
    "  account_id int,\n",
    "  customer_id int,\n",
    "  account_type string,\n",
    "  balance double,\n",
    "  hashkey bigint,\n",
    "  createddate timestamp,\n",
    "  createdby string,\n",
    "  updateddate timestamp,\n",
    "  updatedby string\n",
    ") \n",
    "using delta\n",
    "LOCATION '/mnt/yashwanthncpl/gold/accounts'"
   ]
  },
  {
   "cell_type": "code",
   "execution_count": 0,
   "metadata": {
    "application/vnd.databricks.v1+cell": {
     "cellMetadata": {
      "byteLimit": 2048000,
      "rowLimit": 10000
     },
     "inputWidgets": {},
     "nuid": "85fe7238-e639-4bc3-b8ca-97df440cb37d",
     "showTitle": false,
     "tableResultSettingsMap": {},
     "title": ""
    }
   },
   "outputs": [],
   "source": [
    "CREATE TABLE If NOT EXISTS customers\n",
    "(\n",
    "  customer_id int,\n",
    "  first_name string,\n",
    "  last_name string,\n",
    "  address string,\n",
    "  city string,\n",
    "  state string,\n",
    "  zip string,\n",
    "  hashkey bigint,\n",
    "  createddate timestamp,\n",
    "  createdby string,\n",
    "  updateddate timestamp,\n",
    "  updatedby string\n",
    ")\n",
    "using DELTA\n",
    "LOCATION  '/mnt/yashwanthncpl/gold/customers'"
   ]
  },
  {
   "cell_type": "code",
   "execution_count": 0,
   "metadata": {
    "application/vnd.databricks.v1+cell": {
     "cellMetadata": {
      "byteLimit": 2048000,
      "rowLimit": 10000
     },
     "inputWidgets": {},
     "nuid": "832d75e0-bed9-4a4f-9ee4-ce7ba5df8a9d",
     "showTitle": false,
     "tableResultSettingsMap": {},
     "title": ""
    }
   },
   "outputs": [],
   "source": [
    "CREATE TABLE If NOT EXISTS loan_payments\n",
    "(\n",
    "  payment_id int,\n",
    "  loan_id int,\n",
    "  payment_date timestamp,\n",
    "  payment_amount double,\n",
    "  hashkey bigint,\n",
    "  createddate timestamp,\n",
    "  createdby string,\n",
    "  updateddate timestamp,\n",
    "  updatedby string\n",
    ")\n",
    "using DELTA\n",
    "LOCATION  '/mnt/yashwanthncpl/gold/loan_payments'"
   ]
  },
  {
   "cell_type": "code",
   "execution_count": 0,
   "metadata": {
    "application/vnd.databricks.v1+cell": {
     "cellMetadata": {
      "byteLimit": 2048000,
      "rowLimit": 10000
     },
     "inputWidgets": {},
     "nuid": "4c956ec9-41a4-4522-8b1a-7a3c12ee594c",
     "showTitle": false,
     "tableResultSettingsMap": {},
     "title": ""
    }
   },
   "outputs": [],
   "source": [
    "CREATE TABLE If NOT EXISTS loans\n",
    "(\n",
    "  loan_id int,\n",
    "  customer_id int,\n",
    "  loan_amount double,\n",
    "  interest_rate double,\n",
    "  loan_term int,\n",
    "  hashkey bigint,\n",
    "  createddate timestamp,\n",
    "  createdby string,\n",
    "  updateddate timestamp,\n",
    "  updatedby string\n",
    ")\n",
    "USING DELTA\n",
    "LOCATION '/mnt/yashwanthncpl/gold/loans'"
   ]
  },
  {
   "cell_type": "code",
   "execution_count": 0,
   "metadata": {
    "application/vnd.databricks.v1+cell": {
     "cellMetadata": {
      "byteLimit": 2048000,
      "rowLimit": 10000
     },
     "inputWidgets": {},
     "nuid": "11a0d918-6bd0-4d93-a55f-c6e8e97efca0",
     "showTitle": false,
     "tableResultSettingsMap": {},
     "title": ""
    }
   },
   "outputs": [],
   "source": [
    "CREATE TABLE If NOT EXISTS transactions\n",
    "(\n",
    "  transaction_id int,\n",
    "  account_id int,\n",
    "  transaction_date timestamp,\n",
    "  transaction_amount double,\n",
    "  transaction_type string,\n",
    "  hashkey bigint,\n",
    "  createddate timestamp,\n",
    "  createdby string,\n",
    "  updateddate timestamp,\n",
    "  updatedby string\n",
    ")\n",
    "USING DELTA\n",
    "LOCATION '/mnt/yashwanthncpl/gold/transactions'"
   ]
  },
  {
   "cell_type": "code",
   "execution_count": 0,
   "metadata": {
    "application/vnd.databricks.v1+cell": {
     "cellMetadata": {
      "byteLimit": 2048000,
      "rowLimit": 10000
     },
     "inputWidgets": {},
     "nuid": "1af53eed-ea90-4a66-90d1-adf5894004b0",
     "showTitle": false,
     "tableResultSettingsMap": {},
     "title": ""
    }
   },
   "outputs": [],
   "source": [
    "SHOW TABLES IN default"
   ]
  }
 ],
 "metadata": {
  "application/vnd.databricks.v1+notebook": {
   "computePreferences": null,
   "dashboards": [],
   "environmentMetadata": {
    "base_environment": "",
    "environment_version": "2"
   },
   "inputWidgetPreferences": null,
   "language": "sql",
   "notebookMetadata": {
    "pythonIndentUnit": 4
   },
   "notebookName": "create_external_tables",
   "widgets": {}
  },
  "language_info": {
   "name": "sql"
  }
 },
 "nbformat": 4,
 "nbformat_minor": 0
}
