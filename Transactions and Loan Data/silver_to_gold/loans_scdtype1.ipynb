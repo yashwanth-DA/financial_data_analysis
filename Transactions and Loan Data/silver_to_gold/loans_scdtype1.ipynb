{
 "cells": [
  {
   "cell_type": "code",
   "execution_count": 0,
   "metadata": {
    "application/vnd.databricks.v1+cell": {
     "cellMetadata": {
      "byteLimit": 2048000,
      "rowLimit": 10000
     },
     "inputWidgets": {},
     "nuid": "944129c3-078c-4b99-8cdb-b42e8b3035f8",
     "showTitle": false,
     "tableResultSettingsMap": {},
     "title": ""
    }
   },
   "outputs": [],
   "source": [
    "%run \"../bronze_to_silver/config\""
   ]
  },
  {
   "cell_type": "code",
   "execution_count": 0,
   "metadata": {
    "application/vnd.databricks.v1+cell": {
     "cellMetadata": {
      "byteLimit": 2048000,
      "rowLimit": 10000
     },
     "inputWidgets": {},
     "nuid": "a32ebe98-b158-4915-811b-a386b840a277",
     "showTitle": false,
     "tableResultSettingsMap": {},
     "title": ""
    }
   },
   "outputs": [],
   "source": [
    "df_loans_silver=spark.read.format(\"parquet\").load(f\"{silver_folder_path}/loans/*.parquet\")"
   ]
  },
  {
   "cell_type": "code",
   "execution_count": 0,
   "metadata": {
    "application/vnd.databricks.v1+cell": {
     "cellMetadata": {
      "byteLimit": 2048000,
      "rowLimit": 10000
     },
     "inputWidgets": {},
     "nuid": "54c73aa8-505c-480d-acbf-317b4bc72265",
     "showTitle": false,
     "tableResultSettingsMap": {},
     "title": ""
    }
   },
   "outputs": [],
   "source": [
    "from pyspark.sql.functions import crc32, concat, col,lit,current_timestamp"
   ]
  },
  {
   "cell_type": "code",
   "execution_count": 0,
   "metadata": {
    "application/vnd.databricks.v1+cell": {
     "cellMetadata": {
      "byteLimit": 2048000,
      "rowLimit": 10000
     },
     "inputWidgets": {},
     "nuid": "1c097ef7-7375-4612-bef4-29a832ecada7",
     "showTitle": false,
     "tableResultSettingsMap": {},
     "title": ""
    }
   },
   "outputs": [],
   "source": [
    "# add hashkey to source\n",
    "df_src_hash=df_loans_silver.\\\n",
    "    withColumn(\"src_hashkey\",crc32(concat(col(\"loan_id\").cast(\"string\"),col(\"customer_id\").cast(\"string\"),col(\"loan_amount\").cast(\"string\"),col(\"interest_rate\").cast(\"string\"),col(\"loan_term\").cast(\"string\"))))"
   ]
  },
  {
   "cell_type": "code",
   "execution_count": 0,
   "metadata": {
    "application/vnd.databricks.v1+cell": {
     "cellMetadata": {
      "byteLimit": 2048000,
      "rowLimit": 10000
     },
     "inputWidgets": {},
     "nuid": "3102cdbe-bf31-4139-af84-41dff7cebc0c",
     "showTitle": false,
     "tableResultSettingsMap": {},
     "title": ""
    }
   },
   "outputs": [],
   "source": [
    "from delta.tables import DeltaTable"
   ]
  },
  {
   "cell_type": "code",
   "execution_count": 0,
   "metadata": {
    "application/vnd.databricks.v1+cell": {
     "cellMetadata": {
      "byteLimit": 2048000,
      "rowLimit": 10000
     },
     "inputWidgets": {},
     "nuid": "cd986507-784b-45f1-af73-9c98c11d81a7",
     "showTitle": false,
     "tableResultSettingsMap": {},
     "title": ""
    }
   },
   "outputs": [],
   "source": [
    "dbtable=DeltaTable.forPath(spark,f\"{gold_folder_path}/loans/\")\n",
    "df_tgt=dbtable.toDF()"
   ]
  },
  {
   "cell_type": "code",
   "execution_count": 0,
   "metadata": {
    "application/vnd.databricks.v1+cell": {
     "cellMetadata": {
      "byteLimit": 2048000,
      "rowLimit": 10000
     },
     "inputWidgets": {},
     "nuid": "86683fb2-f470-4550-9e7d-88c960c48e99",
     "showTitle": false,
     "tableResultSettingsMap": {},
     "title": ""
    }
   },
   "outputs": [],
   "source": [
    "# join src and tgt to filter new rows\n",
    "df_final=df_src_hash.alias(\"src\").\\\n",
    "    join(df_tgt.alias(\"tgt\"),\n",
    "         (col(\"src.loan_id\")==col(\"tgt.loan_id\")) & (col(\"src.src_hashkey\")==col(\"tgt.hashkey\")),\n",
    "         \"anti\"\n",
    "         )"
   ]
  },
  {
   "cell_type": "code",
   "execution_count": 0,
   "metadata": {
    "application/vnd.databricks.v1+cell": {
     "cellMetadata": {
      "byteLimit": 2048000,
      "rowLimit": 10000
     },
     "inputWidgets": {},
     "nuid": "a31011a0-34c5-45c5-91b1-76530aad4f77",
     "showTitle": false,
     "tableResultSettingsMap": {},
     "title": ""
    }
   },
   "outputs": [],
   "source": [
    "dbtable.alias('tgt') \\\n",
    "  .merge(\n",
    "    df_final.alias('src'),\n",
    "    'src.loan_id = tgt.loan_id'\n",
    "  ) \\\n",
    "  .whenMatchedUpdate(set =\n",
    "    {\n",
    "      \"tgt.loan_id\":\"src.loan_id\",\n",
    "      \"tgt.customer_id\":\"src.customer_id\",\n",
    "       \"tgt.loan_amount\":\"src.loan_amount\",\n",
    "       \"tgt.interest_rate\":\"src.interest_rate\",\n",
    "       \"tgt.loan_term\":\"src.loan_term\",\n",
    "       \"tgt.hashkey\":\"src.src_hashkey\",\n",
    "       \"tgt.updateddate\":current_timestamp(),\n",
    "       \"tgt.updatedby\":lit(\"databricks-updated\")\n",
    "    }\n",
    "  ) \\\n",
    "  .whenNotMatchedInsert(values =\n",
    "    {\n",
    "       \"tgt.loan_id\":\"src.loan_id\",\n",
    "       \"tgt.customer_id\":\"src.customer_id\",\n",
    "       \"tgt.loan_amount\":\"src.loan_amount\",\n",
    "       \"tgt.interest_rate\":\"src.interest_rate\",\n",
    "       \"tgt.loan_term\":\"src.loan_term\",\n",
    "       \"tgt.hashkey\":\"src.src_hashkey\",\n",
    "       \"tgt.createddate\":current_timestamp(),\n",
    "       \"tgt.createdby\":lit(\"databricks\"),\n",
    "       \"tgt.updateddate\":current_timestamp(),\n",
    "       \"tgt.updatedby\":lit(\"databricks\")\n",
    "    }\n",
    "  ) \\\n",
    "  .execute()"
   ]
  },
  {
   "cell_type": "code",
   "execution_count": 0,
   "metadata": {
    "application/vnd.databricks.v1+cell": {
     "cellMetadata": {
      "byteLimit": 2048000,
      "implicitDf": true,
      "rowLimit": 10000
     },
     "inputWidgets": {},
     "nuid": "c1fc30f1-40e3-4f18-92a0-cd8d49707e53",
     "showTitle": false,
     "tableResultSettingsMap": {},
     "title": ""
    }
   },
   "outputs": [],
   "source": [
    "%sql\n",
    "select * from loans order by loan_id;"
   ]
  }
 ],
 "metadata": {
  "application/vnd.databricks.v1+notebook": {
   "computePreferences": null,
   "dashboards": [],
   "environmentMetadata": {
    "base_environment": "",
    "environment_version": "2"
   },
   "inputWidgetPreferences": null,
   "language": "python",
   "notebookMetadata": {
    "mostRecentlyExecutedCommandWithImplicitDF": {
     "commandId": 92060412185215,
     "dataframes": [
      "_sqldf"
     ]
    },
    "pythonIndentUnit": 4
   },
   "notebookName": "loans_scdtype1",
   "widgets": {}
  },
  "language_info": {
   "name": "python"
  }
 },
 "nbformat": 4,
 "nbformat_minor": 0
}
