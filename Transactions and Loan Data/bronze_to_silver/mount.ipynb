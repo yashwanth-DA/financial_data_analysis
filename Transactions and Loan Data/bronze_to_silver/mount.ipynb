{
 "cells": [
  {
   "cell_type": "code",
   "execution_count": 0,
   "metadata": {
    "application/vnd.databricks.v1+cell": {
     "cellMetadata": {
      "byteLimit": 2048000,
      "rowLimit": 10000
     },
     "inputWidgets": {},
     "nuid": "ba06a596-33b7-4e29-bc66-d6b79fbe03ff",
     "showTitle": false,
     "tableResultSettingsMap": {},
     "title": ""
    }
   },
   "outputs": [],
   "source": [
    "# mount yashwanthncpl adls containers\n",
    "def mount_adls(stoarage_account,container):\n",
    "    #read the secrets values into variables\n",
    "    application_id=dbutils.secrets.get(scope=\"secretscopeyashwanth\",key=\"applicationid-app-databricks-yashwanth\")\n",
    "    tenant_id=dbutils.secrets.get(scope=\"secretscopeyashwanth\",key=\"tenantid-app-databricks-yashwanth\")\n",
    "    client_secret=dbutils.secrets.get(scope=\"secretscopeyashwanth\",key=\"valueID-app-databricks-yashwanth\")\n",
    "    # pass the variables to config\n",
    "    configs = {\"fs.azure.account.auth.type\": \"OAuth\",\n",
    "          \"fs.azure.account.oauth.provider.type\": \"org.apache.hadoop.fs.azurebfs.oauth2.ClientCredsTokenProvider\",\n",
    "          \"fs.azure.account.oauth2.client.id\": application_id,\n",
    "          \"fs.azure.account.oauth2.client.secret\": client_secret,\n",
    "          \"fs.azure.account.oauth2.client.endpoint\": f\"https://login.microsoftonline.com/{tenant_id}/oauth2/token\"}\n",
    "    #unmount if alredy exists\n",
    "    # for mount in dbutils.fs.mounts():\n",
    "    #     if mount.mountPoint == f\"/mnt/{stoarage_account}/{container}\":\n",
    "    #          dbutils.fs.unmount(f\"/mnt/{stoarage_account}/{container}\")\n",
    "    if any(mount.mountPoint == f\"/mnt/{stoarage_account}/{container}\" for mount in dbutils.fs.mounts()):\n",
    "        dbutils.fs.unmount(f\"/mnt/{stoarage_account}/{container}\")\n",
    "    #mount the conatiner\n",
    "    dbutils.fs.mount(\n",
    "    source = f\"abfss://{container}@{stoarage_account}.dfs.core.windows.net/\",\n",
    "    mount_point = f\"/mnt/{stoarage_account}/{container}\",\n",
    "    extra_configs = configs)\n",
    "    \n",
    "    "
   ]
  },
  {
   "cell_type": "code",
   "execution_count": 0,
   "metadata": {
    "application/vnd.databricks.v1+cell": {
     "cellMetadata": {
      "byteLimit": 2048000,
      "rowLimit": 10000
     },
     "inputWidgets": {},
     "nuid": "11835c71-24c5-4b1e-b1d9-bd93727cdfdd",
     "showTitle": false,
     "tableResultSettingsMap": {},
     "title": ""
    }
   },
   "outputs": [],
   "source": [
    "mount_adls('yashwanthncpl','bronze')"
   ]
  },
  {
   "cell_type": "code",
   "execution_count": 0,
   "metadata": {
    "application/vnd.databricks.v1+cell": {
     "cellMetadata": {
      "byteLimit": 2048000,
      "rowLimit": 10000
     },
     "inputWidgets": {},
     "nuid": "3c4e978c-c3db-482b-ac04-fc073a6f132c",
     "showTitle": false,
     "tableResultSettingsMap": {},
     "title": ""
    }
   },
   "outputs": [],
   "source": [
    "mount_adls('yashwanthncpl','silver')"
   ]
  },
  {
   "cell_type": "code",
   "execution_count": 0,
   "metadata": {
    "application/vnd.databricks.v1+cell": {
     "cellMetadata": {
      "byteLimit": 2048000,
      "rowLimit": 10000
     },
     "inputWidgets": {},
     "nuid": "f3cf64c3-91a9-414a-a395-bf8470be8562",
     "showTitle": false,
     "tableResultSettingsMap": {},
     "title": ""
    }
   },
   "outputs": [],
   "source": [
    "mount_adls('yashwanthncpl','gold')"
   ]
  }
 ],
 "metadata": {
  "application/vnd.databricks.v1+notebook": {
   "computePreferences": null,
   "dashboards": [],
   "environmentMetadata": {
    "base_environment": "",
    "environment_version": "2"
   },
   "inputWidgetPreferences": null,
   "language": "python",
   "notebookMetadata": {
    "mostRecentlyExecutedCommandWithImplicitDF": {
     "commandId": -1,
     "dataframes": [
      "_sqldf"
     ]
    },
    "pythonIndentUnit": 4
   },
   "notebookName": "mount",
   "widgets": {}
  },
  "language_info": {
   "name": "python"
  }
 },
 "nbformat": 4,
 "nbformat_minor": 0
}
